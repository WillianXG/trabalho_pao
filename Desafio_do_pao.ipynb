{
  "metadata": {
    "kernelspec": {
      "language": "python",
      "display_name": "Python 3",
      "name": "python3"
    },
    "language_info": {
      "name": "python",
      "version": "3.10.13",
      "mimetype": "text/x-python",
      "codemirror_mode": {
        "name": "ipython",
        "version": 3
      },
      "pygments_lexer": "ipython3",
      "nbconvert_exporter": "python",
      "file_extension": ".py"
    },
    "kaggle": {
      "accelerator": "none",
      "dataSources": [
        {
          "sourceId": 8701963,
          "sourceType": "datasetVersion",
          "datasetId": 5219122
        }
      ],
      "dockerImageVersionId": 30732,
      "isInternetEnabled": false,
      "language": "python",
      "sourceType": "notebook",
      "isGpuEnabled": false
    },
    "colab": {
      "name": "Desafio do pao",
      "provenance": [],
      "include_colab_link": true
    }
  },
  "nbformat_minor": 0,
  "nbformat": 4,
  "cells": [
    {
      "cell_type": "markdown",
      "metadata": {
        "id": "view-in-github",
        "colab_type": "text"
      },
      "source": [
        "<a href=\"https://colab.research.google.com/github/WillianXG/trabalho_pao/blob/main/Desafio_do_pao.ipynb\" target=\"_parent\"><img src=\"https://colab.research.google.com/assets/colab-badge.svg\" alt=\"Open In Colab\"/></a>"
      ]
    },
    {
      "source": [
        "\n",
        "# IMPORTANT: RUN THIS CELL IN ORDER TO IMPORT YOUR KAGGLE DATA SOURCES\n",
        "# TO THE CORRECT LOCATION (/kaggle/input) IN YOUR NOTEBOOK,\n",
        "# THEN FEEL FREE TO DELETE THIS CELL.\n",
        "# NOTE: THIS NOTEBOOK ENVIRONMENT DIFFERS FROM KAGGLE'S PYTHON\n",
        "# ENVIRONMENT SO THERE MAY BE MISSING LIBRARIES USED BY YOUR\n",
        "# NOTEBOOK.\n",
        "\n",
        "import os\n",
        "import sys\n",
        "from tempfile import NamedTemporaryFile\n",
        "from urllib.request import urlopen\n",
        "from urllib.parse import unquote, urlparse\n",
        "from urllib.error import HTTPError\n",
        "from zipfile import ZipFile\n",
        "import tarfile\n",
        "import shutil\n",
        "\n",
        "CHUNK_SIZE = 40960\n",
        "DATA_SOURCE_MAPPING = 'dados-lanchonete-pao:https%3A%2F%2Fstorage.googleapis.com%2Fkaggle-data-sets%2F5219122%2F8701963%2Fbundle%2Farchive.zip%3FX-Goog-Algorithm%3DGOOG4-RSA-SHA256%26X-Goog-Credential%3Dgcp-kaggle-com%2540kaggle-161607.iam.gserviceaccount.com%252F20240617%252Fauto%252Fstorage%252Fgoog4_request%26X-Goog-Date%3D20240617T015722Z%26X-Goog-Expires%3D259200%26X-Goog-SignedHeaders%3Dhost%26X-Goog-Signature%3D54a5716ed6636fe13c2c52a89978c066721510beae900baf3069dfde374ee69ae5bbb37098145afcfe9d1bbce2a1d9395f7e03530ea27dfe81fcc8e7ee6c5505b36f36a3ef216b10d01ba89ba0c3c47c130a8f1d455dee37b316430224c090bcc088c01576a6a32b23bb71a02d3ed4e2352c9013b1c84649d88db885526f6ca3778196022ea7b3df5e67ecfc7bf58cb2ccc59653a21f87cdb78e5c69ede72a1558799453bd697fe77d95281ab67fd7b3ec1382d0002c20a234fc877ebe7dce483ddf54f3103ac22a5bf2976c3dd7735e941d01265fd2fdaffc5e8447a4364512f3f82414169f4b5896687e009e536db97946ec07e0255bd0e91b37543928c8c2'\n",
        "\n",
        "KAGGLE_INPUT_PATH='/kaggle/input'\n",
        "KAGGLE_WORKING_PATH='/kaggle/working'\n",
        "KAGGLE_SYMLINK='kaggle'\n",
        "\n",
        "!umount /kaggle/input/ 2> /dev/null\n",
        "shutil.rmtree('/kaggle/input', ignore_errors=True)\n",
        "os.makedirs(KAGGLE_INPUT_PATH, 0o777, exist_ok=True)\n",
        "os.makedirs(KAGGLE_WORKING_PATH, 0o777, exist_ok=True)\n",
        "\n",
        "try:\n",
        "  os.symlink(KAGGLE_INPUT_PATH, os.path.join(\"..\", 'input'), target_is_directory=True)\n",
        "except FileExistsError:\n",
        "  pass\n",
        "try:\n",
        "  os.symlink(KAGGLE_WORKING_PATH, os.path.join(\"..\", 'working'), target_is_directory=True)\n",
        "except FileExistsError:\n",
        "  pass\n",
        "\n",
        "for data_source_mapping in DATA_SOURCE_MAPPING.split(','):\n",
        "    directory, download_url_encoded = data_source_mapping.split(':')\n",
        "    download_url = unquote(download_url_encoded)\n",
        "    filename = urlparse(download_url).path\n",
        "    destination_path = os.path.join(KAGGLE_INPUT_PATH, directory)\n",
        "    try:\n",
        "        with urlopen(download_url) as fileres, NamedTemporaryFile() as tfile:\n",
        "            total_length = fileres.headers['content-length']\n",
        "            print(f'Downloading {directory}, {total_length} bytes compressed')\n",
        "            dl = 0\n",
        "            data = fileres.read(CHUNK_SIZE)\n",
        "            while len(data) > 0:\n",
        "                dl += len(data)\n",
        "                tfile.write(data)\n",
        "                done = int(50 * dl / int(total_length))\n",
        "                sys.stdout.write(f\"\\r[{'=' * done}{' ' * (50-done)}] {dl} bytes downloaded\")\n",
        "                sys.stdout.flush()\n",
        "                data = fileres.read(CHUNK_SIZE)\n",
        "            if filename.endswith('.zip'):\n",
        "              with ZipFile(tfile) as zfile:\n",
        "                zfile.extractall(destination_path)\n",
        "            else:\n",
        "              with tarfile.open(tfile.name) as tarfile:\n",
        "                tarfile.extractall(destination_path)\n",
        "            print(f'\\nDownloaded and uncompressed: {directory}')\n",
        "    except HTTPError as e:\n",
        "        print(f'Failed to load (likely expired) {download_url} to path {destination_path}')\n",
        "        continue\n",
        "    except OSError as e:\n",
        "        print(f'Failed to load {download_url} to path {destination_path}')\n",
        "        continue\n",
        "\n",
        "print('Data source import complete.')\n"
      ],
      "metadata": {
        "id": "zXiQUXEBCOwb"
      },
      "cell_type": "code",
      "outputs": [],
      "execution_count": null
    },
    {
      "cell_type": "code",
      "source": [
        "import numpy as np\n",
        "import pandas as pd\n",
        "\n",
        "import os\n",
        "for dirname, _, filenames in os.walk('/kaggle/input'):\n",
        "    for filename in filenames:\n",
        "        print(os.path.join(dirname, filename))\n",
        "\n"
      ],
      "metadata": {
        "_uuid": "8f2839f25d086af736a60e9eeb907d3b93b6e0e5",
        "_cell_guid": "b1076dfc-b9ad-4769-8c92-a6c4dae69d19",
        "execution": {
          "iopub.status.busy": "2024-06-16T21:59:11.550128Z",
          "iopub.execute_input": "2024-06-16T21:59:11.550527Z",
          "iopub.status.idle": "2024-06-16T21:59:11.55872Z",
          "shell.execute_reply.started": "2024-06-16T21:59:11.550494Z",
          "shell.execute_reply": "2024-06-16T21:59:11.557358Z"
        },
        "trusted": true,
        "id": "mznFTfRCCOwf",
        "outputId": "fe6f2f0a-80ef-4e72-a7c8-510ea95dc9e1"
      },
      "execution_count": null,
      "outputs": [
        {
          "name": "stdout",
          "text": "/kaggle/input/dados-lanchonete-pao/DataBase po.xlsx\n",
          "output_type": "stream"
        }
      ]
    },
    {
      "cell_type": "markdown",
      "source": [
        "# Desafio do pão\n",
        "## Criar um CSV resultante quem tem a maior probabilidade de comprar pão durante a semana\n",
        "\n",
        "Deve ser feito uma analise do DataFrame e criar como resultante um CSV para mostar quais as pessoas com maior possibilidade de comprar pão durante a semana, e o CSV deve conter as seguintes colunas:\n",
        "\n",
        "1. Nome da Pessoa\n",
        "2. Valor da possibilidade de compra por semana\n",
        "3. Valor Minimo de compra de pão por dia\n",
        "4. Valor Maximo de compra de pão por dia\n",
        "\n",
        "Com isso os 3 primeiros são as pessoas com maior probabildiade de compra de pão durante a semana.\n",
        "\n",
        "Para chegar nessa conclusão pode utilziar cruzamento de valores como **Se a pessoa Trabalha e qual foi o Valor da sua ultima compra** , e assim verificar quais pessoas tem a probabilidade de comprar um pão durante a semana.\n",
        "\n",
        "Alem disso o codigo não deve ter comentarios descritivos para explicar o que o codigo faz. E o DataFrame deve ser tratado tanto com valores ausentes e/ou valores incorretos, relizando a limpeza de dados.\n",
        "\n",
        "**Dica** : Crie um (ou mais) sistema de classificação, assim utilize essas constantes para avaliar pessoa por pessoa se ela poderá ser uma compradora do pão durante a semana ou não."
      ],
      "metadata": {
        "id": "Mb5-RDcJCOwh"
      }
    },
    {
      "cell_type": "code",
      "source": [
        "#Tratamento de dados para o DataFrame original\n",
        "\n",
        "def trat(df):\n",
        "  for valor in df['Interação social']:\n",
        "    try:\n",
        "        valor_int = int(valor)\n",
        "        if valor_int == 2:\n",
        "            print(\"alo\")\n",
        "    except ValueError:\n",
        "        continue\n",
        "\n",
        "\n",
        "trat(Dados_pao)"
      ],
      "metadata": {
        "execution": {
          "iopub.status.busy": "2024-06-16T22:35:32.665606Z",
          "iopub.execute_input": "2024-06-16T22:35:32.666419Z",
          "iopub.status.idle": "2024-06-16T22:35:32.741108Z",
          "shell.execute_reply.started": "2024-06-16T22:35:32.666381Z",
          "shell.execute_reply": "2024-06-16T22:35:32.739954Z"
        },
        "trusted": true,
        "id": "VM-SdKgVCOwi",
        "outputId": "73ec747f-5617-4acf-c942-f66e78def770"
      },
      "execution_count": null,
      "outputs": [
        {
          "execution_count": 63,
          "output_type": "execute_result",
          "data": {
            "text/plain": "    id            pessoa  idade       Sexo  pão comprados Frequencia  Faltas  \\\n0    1        João Silva   25.0          M            5.0    Semanal       2   \n2    3     Carlos Santos   28.0  masculino            4.0     Mensal       1   \n4    5     Pedro Almeida    NaN          M            2.0     Mensal       0   \n5    6    Julia Ferreira   27.0   feminino            5.0    Semanal       2   \n7    8      Beatriz Lima   26.0          F            4.0     Mensal       1   \n8    9     Ricardo Sousa   31.0  masculino            NaN  Quinzenal       1   \n10  11      Felipe Rocha    NaN          M            4.0    Semanal       0   \n11  12   Vanessa Martins   32.0          F            2.0  Quinzenal       0   \n12  13      Thiago Ramos   34.0  masculino            6.0    Semanal       2   \n14  15     André Barbosa   27.0          M            2.0  Quinzenal       1   \n15  16     Paula Ribeiro   28.0   feminino            4.0    Semanal       0   \n16  17    Gabriel Mendes   36.0          M            3.0  Quinzenal       0   \n17  18     Clara Azevedo   25.0   feminino            NaN    Semanal       2   \n18  19    Lucas Teixeira    NaN          M            2.0     Mensal       1   \n20  21    Daniel Moreira   28.0  masculino            3.0  Quinzenal       1   \n22  23    Bruno Ferreira   27.0          M            4.0     Mensal       1   \n24  25   Rodrigo Almeida    NaN          M            2.0     Mensal       0   \n25  26    Patrícia Silva   27.0          F            5.0    Semanal       2   \n27  28      Juliana Lima   26.0   feminino            4.0     Mensal       1   \n28  29       André Sousa   31.0          M            2.0  Quinzenal       1   \n30  31      Rafael Rocha   29.0  masculino            4.0    Semanal       0   \n31  32     Sofia Martins   32.0          F            2.0  Quinzenal       0   \n32  33    Leonardo Ramos   34.0          M            6.0    Semanal       2   \n34  35   Matheus Barbosa   27.0          M            2.0  Quinzenal       1   \n35  36    Renata Ribeiro   28.0   feminino            4.0    Semanal       0   \n36  37  Guilherme Mendes   36.0          M            3.0  Quinzenal       0   \n37  38  Carolina Azevedo   25.0          F            5.0    Semanal       2   \n38  39    Vitor Teixeira   31.0  masculino            2.0     Mensal       1   \n40  41     Diogo Moreira   28.0          M            3.0  Quinzenal       1   \n42  43     Igor Ferreira   27.0          M            NaN     Mensal       1   \n44  45    Sérgio Almeida   35.0  masculino            2.0     Mensal       0   \n45  46      Denise Silva   27.0          F            5.0    Semanal       2   \n47  48       Bianca Lima   26.0   feminino            4.0     Mensal       1   \n48  49    Fernando Sousa   31.0          M            2.0  Quinzenal       1   \n\n    altura  Peso Trabalha         Profissão  Faculdade Estado civil  \\\n0      175  70.0      Sim        Engenheiro        USP     Solteiro   \n2      180  80.0      Sim               NaN        PUC   Divorciado   \n4      178   NaN      Sim            Médico    UNIFESP       Casado   \n5      160  55.0      Sim          Designer       FAAP     Solteira   \n7      168  58.0      Sim        Jornalista        USP     Solteira   \n8      175  75.0      Sim          Contador  Mackenzie       Casado   \n10     177  78.0      Sim       Programador        ITA          NaN   \n11     163  57.0      Sim    Administradora     Insper       Casada   \n12     181  82.0      Sim  Engenheiro Civil   Poli-USP     Solteiro   \n14     174  73.0      Sim        Economista        FGV     Solteiro   \n15     171  68.0      Sim         Psicóloga        USP       Casada   \n16     179  88.0      Sim            Médico        USP       Casado   \n17     162  59.0      Sim     Nutricionista    Unifesp     Solteira   \n18     176  76.0      Sim         Arquiteto        FAU       Casado   \n20     180   NaN      Sim        Engenheiro        USP       Casado   \n22     178  82.0      Sim          Advogado        PUC   Divorciado   \n24     185  88.0      Sim            Médico    UNIFESP       Casado   \n25     161  56.0      Sim          Designer       FAAP     Solteira   \n27     168  59.0      Sim        Jornalista        USP     Solteira   \n28     176  76.0      Sim          Contador  Mackenzie       Casado   \n30     177  79.0      Sim       Programador        ITA       Casado   \n31     164  58.0      Sim    Administradora     Insper       Casada   \n32     181  83.0      Sim               NaN   Poli-USP     Solteiro   \n34     174  75.0      Sim        Economista        FGV     Solteiro   \n35     171  69.0      Sim         Psicóloga        USP       Casada   \n36     179  89.0      Sim            Médico        USP       Casado   \n37     162  60.0      Sim     Nutricionista    Unifesp          NaN   \n38     176  77.0      Sim         Arquiteto        FAU       Casado   \n40     180  78.0      Sim        Engenheiro        USP       Casado   \n42     178  82.0      Sim          Advogado        PUC   Divorciado   \n44     185  88.0      Sim               NaN    UNIFESP       Casado   \n45     161  56.0      Sim          Designer       FAAP     Solteira   \n47     168  59.0      Sim        Jornalista        USP     Solteira   \n48     176  76.0      Sim          Contador  Mackenzie       Casado   \n\n    numero de amigos  valor da ultima compra Fumante Bebida alcolica  \\\n0               10.0                       5     Não             Sim   \n2                8.0                       7     Sim             Sim   \n4                NaN                       2     Não             Não   \n5               25.0                       6     Não             Sim   \n7               18.0                       8     Não             Sim   \n8               12.0                       1     Não             Não   \n10              14.0                       9     Não             Sim   \n11              11.0                       1     Sim             Não   \n12               9.0                       5     Sim             Sim   \n14              13.0                       1     Não             Sim   \n15              17.0                       9     Não             Não   \n16              11.0                       1     Não             Não   \n17              19.0                       7     Sim             Sim   \n18               NaN                       1     Não             Não   \n20              14.0                       1     Não             Sim   \n22               8.0                       1     Sim             Sim   \n24              12.0                       2     Não             Não   \n25              26.0                       7     Não             Sim   \n27              18.0                       8     Não             Sim   \n28              12.0                       1     Não             Não   \n30              14.0                       1     Não             Sim   \n31              11.0                       1     Sim             Não   \n32               9.0                       6     Sim             Sim   \n34              13.0                       1     Não             Sim   \n35              17.0                       1     Não             Não   \n36              11.0                       1     Não             Não   \n37              19.0                       8     Sim             Sim   \n38              14.0                       1     Não             Não   \n40              14.0                       1     Não             Sim   \n42               8.0                       1     Sim             Sim   \n44              12.0                       2     Não             Não   \n45              26.0                       7     Não             Sim   \n47              18.0                       9     Não             Sim   \n48               NaN                       1     Não             Não   \n\n    Valor gasto por semana Comida Favorita Interação social  \n0                     20.0           Pizza               12  \n2                     25.0           Sushi             Alta  \n4                     30.0             NaN             Alta  \n5                      NaN          Salada                5  \n7                     19.0           Massa            Média  \n8                     23.0        Feijoada               12  \n10                    26.0           Pizza                5  \n11                    24.0           Sushi               12  \n12                    27.0       Churrasco             Alta  \n14                    21.0           Pizza               12  \n15                    20.0           Sushi                2  \n16                    32.0        Feijoada            Baixa  \n17                    21.0          Salada               12  \n18                    29.0       Churrasco                5  \n20                    22.0             NaN               12  \n22                    25.0           Sushi            Baixa  \n24                    32.0       Churrasco                5  \n25                     NaN          Salada               12  \n27                    20.0           Massa             Alta  \n28                    25.0        Feijoada               12  \n30                    28.0           Pizza               12  \n31                    26.0           Sushi             Alta  \n32                    29.0       Churrasco                5  \n34                    22.0           Pizza                2  \n35                    22.0           Sushi             Alta  \n36                    34.0        Feijoada            Média  \n37                    22.0          Salada               12  \n38                    31.0             NaN                5  \n40                     NaN           Pizza               12  \n42                    26.0           Sushi            Baixa  \n44                    33.0       Churrasco                5  \n45                    24.0          Salada             Alta  \n47                    21.0           Massa             Alta  \n48                    26.0        Feijoada            Média  ",
            "text/html": "<div>\n<style scoped>\n    .dataframe tbody tr th:only-of-type {\n        vertical-align: middle;\n    }\n\n    .dataframe tbody tr th {\n        vertical-align: top;\n    }\n\n    .dataframe thead th {\n        text-align: right;\n    }\n</style>\n<table border=\"1\" class=\"dataframe\">\n  <thead>\n    <tr style=\"text-align: right;\">\n      <th></th>\n      <th>id</th>\n      <th>pessoa</th>\n      <th>idade</th>\n      <th>Sexo</th>\n      <th>pão comprados</th>\n      <th>Frequencia</th>\n      <th>Faltas</th>\n      <th>altura</th>\n      <th>Peso</th>\n      <th>Trabalha</th>\n      <th>Profissão</th>\n      <th>Faculdade</th>\n      <th>Estado civil</th>\n      <th>numero de amigos</th>\n      <th>valor da ultima compra</th>\n      <th>Fumante</th>\n      <th>Bebida alcolica</th>\n      <th>Valor gasto por semana</th>\n      <th>Comida Favorita</th>\n      <th>Interação social</th>\n    </tr>\n  </thead>\n  <tbody>\n    <tr>\n      <th>0</th>\n      <td>1</td>\n      <td>João Silva</td>\n      <td>25.0</td>\n      <td>M</td>\n      <td>5.0</td>\n      <td>Semanal</td>\n      <td>2</td>\n      <td>175</td>\n      <td>70.0</td>\n      <td>Sim</td>\n      <td>Engenheiro</td>\n      <td>USP</td>\n      <td>Solteiro</td>\n      <td>10.0</td>\n      <td>5</td>\n      <td>Não</td>\n      <td>Sim</td>\n      <td>20.0</td>\n      <td>Pizza</td>\n      <td>12</td>\n    </tr>\n    <tr>\n      <th>2</th>\n      <td>3</td>\n      <td>Carlos Santos</td>\n      <td>28.0</td>\n      <td>masculino</td>\n      <td>4.0</td>\n      <td>Mensal</td>\n      <td>1</td>\n      <td>180</td>\n      <td>80.0</td>\n      <td>Sim</td>\n      <td>NaN</td>\n      <td>PUC</td>\n      <td>Divorciado</td>\n      <td>8.0</td>\n      <td>7</td>\n      <td>Sim</td>\n      <td>Sim</td>\n      <td>25.0</td>\n      <td>Sushi</td>\n      <td>Alta</td>\n    </tr>\n    <tr>\n      <th>4</th>\n      <td>5</td>\n      <td>Pedro Almeida</td>\n      <td>NaN</td>\n      <td>M</td>\n      <td>2.0</td>\n      <td>Mensal</td>\n      <td>0</td>\n      <td>178</td>\n      <td>NaN</td>\n      <td>Sim</td>\n      <td>Médico</td>\n      <td>UNIFESP</td>\n      <td>Casado</td>\n      <td>NaN</td>\n      <td>2</td>\n      <td>Não</td>\n      <td>Não</td>\n      <td>30.0</td>\n      <td>NaN</td>\n      <td>Alta</td>\n    </tr>\n    <tr>\n      <th>5</th>\n      <td>6</td>\n      <td>Julia Ferreira</td>\n      <td>27.0</td>\n      <td>feminino</td>\n      <td>5.0</td>\n      <td>Semanal</td>\n      <td>2</td>\n      <td>160</td>\n      <td>55.0</td>\n      <td>Sim</td>\n      <td>Designer</td>\n      <td>FAAP</td>\n      <td>Solteira</td>\n      <td>25.0</td>\n      <td>6</td>\n      <td>Não</td>\n      <td>Sim</td>\n      <td>NaN</td>\n      <td>Salada</td>\n      <td>5</td>\n    </tr>\n    <tr>\n      <th>7</th>\n      <td>8</td>\n      <td>Beatriz Lima</td>\n      <td>26.0</td>\n      <td>F</td>\n      <td>4.0</td>\n      <td>Mensal</td>\n      <td>1</td>\n      <td>168</td>\n      <td>58.0</td>\n      <td>Sim</td>\n      <td>Jornalista</td>\n      <td>USP</td>\n      <td>Solteira</td>\n      <td>18.0</td>\n      <td>8</td>\n      <td>Não</td>\n      <td>Sim</td>\n      <td>19.0</td>\n      <td>Massa</td>\n      <td>Média</td>\n    </tr>\n    <tr>\n      <th>8</th>\n      <td>9</td>\n      <td>Ricardo Sousa</td>\n      <td>31.0</td>\n      <td>masculino</td>\n      <td>NaN</td>\n      <td>Quinzenal</td>\n      <td>1</td>\n      <td>175</td>\n      <td>75.0</td>\n      <td>Sim</td>\n      <td>Contador</td>\n      <td>Mackenzie</td>\n      <td>Casado</td>\n      <td>12.0</td>\n      <td>1</td>\n      <td>Não</td>\n      <td>Não</td>\n      <td>23.0</td>\n      <td>Feijoada</td>\n      <td>12</td>\n    </tr>\n    <tr>\n      <th>10</th>\n      <td>11</td>\n      <td>Felipe Rocha</td>\n      <td>NaN</td>\n      <td>M</td>\n      <td>4.0</td>\n      <td>Semanal</td>\n      <td>0</td>\n      <td>177</td>\n      <td>78.0</td>\n      <td>Sim</td>\n      <td>Programador</td>\n      <td>ITA</td>\n      <td>NaN</td>\n      <td>14.0</td>\n      <td>9</td>\n      <td>Não</td>\n      <td>Sim</td>\n      <td>26.0</td>\n      <td>Pizza</td>\n      <td>5</td>\n    </tr>\n    <tr>\n      <th>11</th>\n      <td>12</td>\n      <td>Vanessa Martins</td>\n      <td>32.0</td>\n      <td>F</td>\n      <td>2.0</td>\n      <td>Quinzenal</td>\n      <td>0</td>\n      <td>163</td>\n      <td>57.0</td>\n      <td>Sim</td>\n      <td>Administradora</td>\n      <td>Insper</td>\n      <td>Casada</td>\n      <td>11.0</td>\n      <td>1</td>\n      <td>Sim</td>\n      <td>Não</td>\n      <td>24.0</td>\n      <td>Sushi</td>\n      <td>12</td>\n    </tr>\n    <tr>\n      <th>12</th>\n      <td>13</td>\n      <td>Thiago Ramos</td>\n      <td>34.0</td>\n      <td>masculino</td>\n      <td>6.0</td>\n      <td>Semanal</td>\n      <td>2</td>\n      <td>181</td>\n      <td>82.0</td>\n      <td>Sim</td>\n      <td>Engenheiro Civil</td>\n      <td>Poli-USP</td>\n      <td>Solteiro</td>\n      <td>9.0</td>\n      <td>5</td>\n      <td>Sim</td>\n      <td>Sim</td>\n      <td>27.0</td>\n      <td>Churrasco</td>\n      <td>Alta</td>\n    </tr>\n    <tr>\n      <th>14</th>\n      <td>15</td>\n      <td>André Barbosa</td>\n      <td>27.0</td>\n      <td>M</td>\n      <td>2.0</td>\n      <td>Quinzenal</td>\n      <td>1</td>\n      <td>174</td>\n      <td>73.0</td>\n      <td>Sim</td>\n      <td>Economista</td>\n      <td>FGV</td>\n      <td>Solteiro</td>\n      <td>13.0</td>\n      <td>1</td>\n      <td>Não</td>\n      <td>Sim</td>\n      <td>21.0</td>\n      <td>Pizza</td>\n      <td>12</td>\n    </tr>\n    <tr>\n      <th>15</th>\n      <td>16</td>\n      <td>Paula Ribeiro</td>\n      <td>28.0</td>\n      <td>feminino</td>\n      <td>4.0</td>\n      <td>Semanal</td>\n      <td>0</td>\n      <td>171</td>\n      <td>68.0</td>\n      <td>Sim</td>\n      <td>Psicóloga</td>\n      <td>USP</td>\n      <td>Casada</td>\n      <td>17.0</td>\n      <td>9</td>\n      <td>Não</td>\n      <td>Não</td>\n      <td>20.0</td>\n      <td>Sushi</td>\n      <td>2</td>\n    </tr>\n    <tr>\n      <th>16</th>\n      <td>17</td>\n      <td>Gabriel Mendes</td>\n      <td>36.0</td>\n      <td>M</td>\n      <td>3.0</td>\n      <td>Quinzenal</td>\n      <td>0</td>\n      <td>179</td>\n      <td>88.0</td>\n      <td>Sim</td>\n      <td>Médico</td>\n      <td>USP</td>\n      <td>Casado</td>\n      <td>11.0</td>\n      <td>1</td>\n      <td>Não</td>\n      <td>Não</td>\n      <td>32.0</td>\n      <td>Feijoada</td>\n      <td>Baixa</td>\n    </tr>\n    <tr>\n      <th>17</th>\n      <td>18</td>\n      <td>Clara Azevedo</td>\n      <td>25.0</td>\n      <td>feminino</td>\n      <td>NaN</td>\n      <td>Semanal</td>\n      <td>2</td>\n      <td>162</td>\n      <td>59.0</td>\n      <td>Sim</td>\n      <td>Nutricionista</td>\n      <td>Unifesp</td>\n      <td>Solteira</td>\n      <td>19.0</td>\n      <td>7</td>\n      <td>Sim</td>\n      <td>Sim</td>\n      <td>21.0</td>\n      <td>Salada</td>\n      <td>12</td>\n    </tr>\n    <tr>\n      <th>18</th>\n      <td>19</td>\n      <td>Lucas Teixeira</td>\n      <td>NaN</td>\n      <td>M</td>\n      <td>2.0</td>\n      <td>Mensal</td>\n      <td>1</td>\n      <td>176</td>\n      <td>76.0</td>\n      <td>Sim</td>\n      <td>Arquiteto</td>\n      <td>FAU</td>\n      <td>Casado</td>\n      <td>NaN</td>\n      <td>1</td>\n      <td>Não</td>\n      <td>Não</td>\n      <td>29.0</td>\n      <td>Churrasco</td>\n      <td>5</td>\n    </tr>\n    <tr>\n      <th>20</th>\n      <td>21</td>\n      <td>Daniel Moreira</td>\n      <td>28.0</td>\n      <td>masculino</td>\n      <td>3.0</td>\n      <td>Quinzenal</td>\n      <td>1</td>\n      <td>180</td>\n      <td>NaN</td>\n      <td>Sim</td>\n      <td>Engenheiro</td>\n      <td>USP</td>\n      <td>Casado</td>\n      <td>14.0</td>\n      <td>1</td>\n      <td>Não</td>\n      <td>Sim</td>\n      <td>22.0</td>\n      <td>NaN</td>\n      <td>12</td>\n    </tr>\n    <tr>\n      <th>22</th>\n      <td>23</td>\n      <td>Bruno Ferreira</td>\n      <td>27.0</td>\n      <td>M</td>\n      <td>4.0</td>\n      <td>Mensal</td>\n      <td>1</td>\n      <td>178</td>\n      <td>82.0</td>\n      <td>Sim</td>\n      <td>Advogado</td>\n      <td>PUC</td>\n      <td>Divorciado</td>\n      <td>8.0</td>\n      <td>1</td>\n      <td>Sim</td>\n      <td>Sim</td>\n      <td>25.0</td>\n      <td>Sushi</td>\n      <td>Baixa</td>\n    </tr>\n    <tr>\n      <th>24</th>\n      <td>25</td>\n      <td>Rodrigo Almeida</td>\n      <td>NaN</td>\n      <td>M</td>\n      <td>2.0</td>\n      <td>Mensal</td>\n      <td>0</td>\n      <td>185</td>\n      <td>88.0</td>\n      <td>Sim</td>\n      <td>Médico</td>\n      <td>UNIFESP</td>\n      <td>Casado</td>\n      <td>12.0</td>\n      <td>2</td>\n      <td>Não</td>\n      <td>Não</td>\n      <td>32.0</td>\n      <td>Churrasco</td>\n      <td>5</td>\n    </tr>\n    <tr>\n      <th>25</th>\n      <td>26</td>\n      <td>Patrícia Silva</td>\n      <td>27.0</td>\n      <td>F</td>\n      <td>5.0</td>\n      <td>Semanal</td>\n      <td>2</td>\n      <td>161</td>\n      <td>56.0</td>\n      <td>Sim</td>\n      <td>Designer</td>\n      <td>FAAP</td>\n      <td>Solteira</td>\n      <td>26.0</td>\n      <td>7</td>\n      <td>Não</td>\n      <td>Sim</td>\n      <td>NaN</td>\n      <td>Salada</td>\n      <td>12</td>\n    </tr>\n    <tr>\n      <th>27</th>\n      <td>28</td>\n      <td>Juliana Lima</td>\n      <td>26.0</td>\n      <td>feminino</td>\n      <td>4.0</td>\n      <td>Mensal</td>\n      <td>1</td>\n      <td>168</td>\n      <td>59.0</td>\n      <td>Sim</td>\n      <td>Jornalista</td>\n      <td>USP</td>\n      <td>Solteira</td>\n      <td>18.0</td>\n      <td>8</td>\n      <td>Não</td>\n      <td>Sim</td>\n      <td>20.0</td>\n      <td>Massa</td>\n      <td>Alta</td>\n    </tr>\n    <tr>\n      <th>28</th>\n      <td>29</td>\n      <td>André Sousa</td>\n      <td>31.0</td>\n      <td>M</td>\n      <td>2.0</td>\n      <td>Quinzenal</td>\n      <td>1</td>\n      <td>176</td>\n      <td>76.0</td>\n      <td>Sim</td>\n      <td>Contador</td>\n      <td>Mackenzie</td>\n      <td>Casado</td>\n      <td>12.0</td>\n      <td>1</td>\n      <td>Não</td>\n      <td>Não</td>\n      <td>25.0</td>\n      <td>Feijoada</td>\n      <td>12</td>\n    </tr>\n    <tr>\n      <th>30</th>\n      <td>31</td>\n      <td>Rafael Rocha</td>\n      <td>29.0</td>\n      <td>masculino</td>\n      <td>4.0</td>\n      <td>Semanal</td>\n      <td>0</td>\n      <td>177</td>\n      <td>79.0</td>\n      <td>Sim</td>\n      <td>Programador</td>\n      <td>ITA</td>\n      <td>Casado</td>\n      <td>14.0</td>\n      <td>1</td>\n      <td>Não</td>\n      <td>Sim</td>\n      <td>28.0</td>\n      <td>Pizza</td>\n      <td>12</td>\n    </tr>\n    <tr>\n      <th>31</th>\n      <td>32</td>\n      <td>Sofia Martins</td>\n      <td>32.0</td>\n      <td>F</td>\n      <td>2.0</td>\n      <td>Quinzenal</td>\n      <td>0</td>\n      <td>164</td>\n      <td>58.0</td>\n      <td>Sim</td>\n      <td>Administradora</td>\n      <td>Insper</td>\n      <td>Casada</td>\n      <td>11.0</td>\n      <td>1</td>\n      <td>Sim</td>\n      <td>Não</td>\n      <td>26.0</td>\n      <td>Sushi</td>\n      <td>Alta</td>\n    </tr>\n    <tr>\n      <th>32</th>\n      <td>33</td>\n      <td>Leonardo Ramos</td>\n      <td>34.0</td>\n      <td>M</td>\n      <td>6.0</td>\n      <td>Semanal</td>\n      <td>2</td>\n      <td>181</td>\n      <td>83.0</td>\n      <td>Sim</td>\n      <td>NaN</td>\n      <td>Poli-USP</td>\n      <td>Solteiro</td>\n      <td>9.0</td>\n      <td>6</td>\n      <td>Sim</td>\n      <td>Sim</td>\n      <td>29.0</td>\n      <td>Churrasco</td>\n      <td>5</td>\n    </tr>\n    <tr>\n      <th>34</th>\n      <td>35</td>\n      <td>Matheus Barbosa</td>\n      <td>27.0</td>\n      <td>M</td>\n      <td>2.0</td>\n      <td>Quinzenal</td>\n      <td>1</td>\n      <td>174</td>\n      <td>75.0</td>\n      <td>Sim</td>\n      <td>Economista</td>\n      <td>FGV</td>\n      <td>Solteiro</td>\n      <td>13.0</td>\n      <td>1</td>\n      <td>Não</td>\n      <td>Sim</td>\n      <td>22.0</td>\n      <td>Pizza</td>\n      <td>2</td>\n    </tr>\n    <tr>\n      <th>35</th>\n      <td>36</td>\n      <td>Renata Ribeiro</td>\n      <td>28.0</td>\n      <td>feminino</td>\n      <td>4.0</td>\n      <td>Semanal</td>\n      <td>0</td>\n      <td>171</td>\n      <td>69.0</td>\n      <td>Sim</td>\n      <td>Psicóloga</td>\n      <td>USP</td>\n      <td>Casada</td>\n      <td>17.0</td>\n      <td>1</td>\n      <td>Não</td>\n      <td>Não</td>\n      <td>22.0</td>\n      <td>Sushi</td>\n      <td>Alta</td>\n    </tr>\n    <tr>\n      <th>36</th>\n      <td>37</td>\n      <td>Guilherme Mendes</td>\n      <td>36.0</td>\n      <td>M</td>\n      <td>3.0</td>\n      <td>Quinzenal</td>\n      <td>0</td>\n      <td>179</td>\n      <td>89.0</td>\n      <td>Sim</td>\n      <td>Médico</td>\n      <td>USP</td>\n      <td>Casado</td>\n      <td>11.0</td>\n      <td>1</td>\n      <td>Não</td>\n      <td>Não</td>\n      <td>34.0</td>\n      <td>Feijoada</td>\n      <td>Média</td>\n    </tr>\n    <tr>\n      <th>37</th>\n      <td>38</td>\n      <td>Carolina Azevedo</td>\n      <td>25.0</td>\n      <td>F</td>\n      <td>5.0</td>\n      <td>Semanal</td>\n      <td>2</td>\n      <td>162</td>\n      <td>60.0</td>\n      <td>Sim</td>\n      <td>Nutricionista</td>\n      <td>Unifesp</td>\n      <td>NaN</td>\n      <td>19.0</td>\n      <td>8</td>\n      <td>Sim</td>\n      <td>Sim</td>\n      <td>22.0</td>\n      <td>Salada</td>\n      <td>12</td>\n    </tr>\n    <tr>\n      <th>38</th>\n      <td>39</td>\n      <td>Vitor Teixeira</td>\n      <td>31.0</td>\n      <td>masculino</td>\n      <td>2.0</td>\n      <td>Mensal</td>\n      <td>1</td>\n      <td>176</td>\n      <td>77.0</td>\n      <td>Sim</td>\n      <td>Arquiteto</td>\n      <td>FAU</td>\n      <td>Casado</td>\n      <td>14.0</td>\n      <td>1</td>\n      <td>Não</td>\n      <td>Não</td>\n      <td>31.0</td>\n      <td>NaN</td>\n      <td>5</td>\n    </tr>\n    <tr>\n      <th>40</th>\n      <td>41</td>\n      <td>Diogo Moreira</td>\n      <td>28.0</td>\n      <td>M</td>\n      <td>3.0</td>\n      <td>Quinzenal</td>\n      <td>1</td>\n      <td>180</td>\n      <td>78.0</td>\n      <td>Sim</td>\n      <td>Engenheiro</td>\n      <td>USP</td>\n      <td>Casado</td>\n      <td>14.0</td>\n      <td>1</td>\n      <td>Não</td>\n      <td>Sim</td>\n      <td>NaN</td>\n      <td>Pizza</td>\n      <td>12</td>\n    </tr>\n    <tr>\n      <th>42</th>\n      <td>43</td>\n      <td>Igor Ferreira</td>\n      <td>27.0</td>\n      <td>M</td>\n      <td>NaN</td>\n      <td>Mensal</td>\n      <td>1</td>\n      <td>178</td>\n      <td>82.0</td>\n      <td>Sim</td>\n      <td>Advogado</td>\n      <td>PUC</td>\n      <td>Divorciado</td>\n      <td>8.0</td>\n      <td>1</td>\n      <td>Sim</td>\n      <td>Sim</td>\n      <td>26.0</td>\n      <td>Sushi</td>\n      <td>Baixa</td>\n    </tr>\n    <tr>\n      <th>44</th>\n      <td>45</td>\n      <td>Sérgio Almeida</td>\n      <td>35.0</td>\n      <td>masculino</td>\n      <td>2.0</td>\n      <td>Mensal</td>\n      <td>0</td>\n      <td>185</td>\n      <td>88.0</td>\n      <td>Sim</td>\n      <td>NaN</td>\n      <td>UNIFESP</td>\n      <td>Casado</td>\n      <td>12.0</td>\n      <td>2</td>\n      <td>Não</td>\n      <td>Não</td>\n      <td>33.0</td>\n      <td>Churrasco</td>\n      <td>5</td>\n    </tr>\n    <tr>\n      <th>45</th>\n      <td>46</td>\n      <td>Denise Silva</td>\n      <td>27.0</td>\n      <td>F</td>\n      <td>5.0</td>\n      <td>Semanal</td>\n      <td>2</td>\n      <td>161</td>\n      <td>56.0</td>\n      <td>Sim</td>\n      <td>Designer</td>\n      <td>FAAP</td>\n      <td>Solteira</td>\n      <td>26.0</td>\n      <td>7</td>\n      <td>Não</td>\n      <td>Sim</td>\n      <td>24.0</td>\n      <td>Salada</td>\n      <td>Alta</td>\n    </tr>\n    <tr>\n      <th>47</th>\n      <td>48</td>\n      <td>Bianca Lima</td>\n      <td>26.0</td>\n      <td>feminino</td>\n      <td>4.0</td>\n      <td>Mensal</td>\n      <td>1</td>\n      <td>168</td>\n      <td>59.0</td>\n      <td>Sim</td>\n      <td>Jornalista</td>\n      <td>USP</td>\n      <td>Solteira</td>\n      <td>18.0</td>\n      <td>9</td>\n      <td>Não</td>\n      <td>Sim</td>\n      <td>21.0</td>\n      <td>Massa</td>\n      <td>Alta</td>\n    </tr>\n    <tr>\n      <th>48</th>\n      <td>49</td>\n      <td>Fernando Sousa</td>\n      <td>31.0</td>\n      <td>M</td>\n      <td>2.0</td>\n      <td>Quinzenal</td>\n      <td>1</td>\n      <td>176</td>\n      <td>76.0</td>\n      <td>Sim</td>\n      <td>Contador</td>\n      <td>Mackenzie</td>\n      <td>Casado</td>\n      <td>NaN</td>\n      <td>1</td>\n      <td>Não</td>\n      <td>Não</td>\n      <td>26.0</td>\n      <td>Feijoada</td>\n      <td>Média</td>\n    </tr>\n  </tbody>\n</table>\n</div>"
          },
          "metadata": {}
        }
      ]
    },
    {
      "cell_type": "code",
      "source": [
        "#Tratamento de dados para o DataFrame original\n",
        "Dados_pao_tratados = Dados_pao"
      ],
      "metadata": {
        "execution": {
          "iopub.status.busy": "2024-06-16T21:59:11.632041Z",
          "iopub.status.idle": "2024-06-16T21:59:11.632566Z",
          "shell.execute_reply.started": "2024-06-16T21:59:11.632331Z",
          "shell.execute_reply": "2024-06-16T21:59:11.632356Z"
        },
        "trusted": true,
        "id": "l2ZFvsZbCOwj"
      },
      "execution_count": null,
      "outputs": []
    },
    {
      "cell_type": "code",
      "source": [
        "#Resultado em formato CSV\n",
        "Resultado_pao  =  Dados_pao_tratados.to_csv(\"Probabilidade_pao.csv\")"
      ],
      "metadata": {
        "execution": {
          "iopub.status.busy": "2024-06-16T21:59:11.63409Z",
          "iopub.status.idle": "2024-06-16T21:59:11.634505Z",
          "shell.execute_reply.started": "2024-06-16T21:59:11.634313Z",
          "shell.execute_reply": "2024-06-16T21:59:11.634332Z"
        },
        "trusted": true,
        "id": "_nqzjf5ICOwj"
      },
      "execution_count": null,
      "outputs": []
    }
  ]
}